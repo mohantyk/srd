{
 "cells": [
  {
   "cell_type": "code",
   "execution_count": 1,
   "metadata": {},
   "outputs": [],
   "source": [
    "%load_ext autoreload\n",
    "%autoreload 2"
   ]
  },
  {
   "cell_type": "code",
   "execution_count": 2,
   "metadata": {},
   "outputs": [],
   "source": [
    "%matplotlib inline\n",
    "import matplotlib as mpl\n",
    "import matplotlib.pyplot as plt\n",
    "\n",
    "import global_params as G\n",
    "plt.rcParams['figure.figsize'] = G.SMALL_FIG"
   ]
  },
  {
   "cell_type": "code",
   "execution_count": 3,
   "metadata": {},
   "outputs": [],
   "source": [
    "import numpy as np\n",
    "from scipy import signal\n",
    "from scipy.fftpack import fft\n",
    "\n",
    "np.set_printoptions(precision=4, suppress=True)"
   ]
  },
  {
   "cell_type": "code",
   "execution_count": 4,
   "metadata": {},
   "outputs": [],
   "source": [
    "from wavegen import srrc, sine_wave\n",
    "from transmitter import oversample\n",
    "from receiver import quantalph, pulse_correlator\n",
    "from sampling import interpolate"
   ]
  },
  {
   "cell_type": "markdown",
   "metadata": {},
   "source": [
    "## 12.3 Decision Directed Timing Recovery"
   ]
  },
  {
   "cell_type": "code",
   "execution_count": 5,
   "metadata": {},
   "outputs": [],
   "source": [
    "# Transmission Parameters\n",
    "N = 10000//2 # num symbols\n",
    "M = 2 # oversampling factor\n",
    "alphabet = np.array([-3, -1, 1, 3]) # 4-PAM\n",
    "\n",
    "# SRRC parameters\n",
    "half_len = 50\n",
    "beta = 0.3 # Roll-off for square root raised cosine\n",
    "timing_offset = -0.2\n",
    "\n",
    "# Channel\n",
    "channel = np.array([1.]) "
   ]
  },
  {
   "cell_type": "code",
   "execution_count": 6,
   "metadata": {},
   "outputs": [],
   "source": [
    "# Transmitted signal\n",
    "symbols = np.random.choice(alphabet, N) # 4-PAM\n",
    "pulse = srrc(half_len, M, beta, timing_offset)\n",
    "\n",
    "oversampled = oversample(symbols, M)\n",
    "analog = np.convolve(oversampled, pulse)\n",
    "received = np.convolve(analog, channel)\n",
    "\n",
    "# Receiver\n",
    "# Wrapper for srrc pulse\n",
    "def rx_srrc_pulse(osr):\n",
    "    return srrc(half_len, osr, beta, 0)\n",
    "\n",
    "matched_out = pulse_correlator(received, M, rx_srrc_pulse)"
   ]
  },
  {
   "cell_type": "code",
   "execution_count": 7,
   "metadata": {},
   "outputs": [
    {
     "name": "stdout",
     "output_type": "stream",
     "text": [
      "CPU times: user 2.26 s, sys: 15 ms, total: 2.27 s\n",
      "Wall time: 2.31 s\n"
     ]
    },
    {
     "data": {
      "text/plain": [
       "[<matplotlib.lines.Line2D at 0x1c1d898590>]"
      ]
     },
     "execution_count": 7,
     "metadata": {},
     "output_type": "execute_result"
    },
    {
     "data": {
      "image/png": "[encoded data removed]",
      "text/plain": [
       "<Figure size 288x216 with 1 Axes>"
      ]
     },
     "metadata": {
      "needs_background": "light"
     },
     "output_type": "display_data"
    }
   ],
   "source": [
    "%%time\n",
    "# Clock recovery parameters\n",
    "mu = 0.01\n",
    "delta = 0.1 # for derivative calculation\n",
    "\n",
    "# Initialization\n",
    "tau = 0\n",
    "tau_history = [0]\n",
    "sample_history = []\n",
    "t_now = half_len * M\n",
    "# Run loop\n",
    "while t_now < len(matched_out) - half_len*M:\n",
    "    sample = interpolate(matched_out, t_now+tau, half_len)\n",
    "    sample_right = interpolate(matched_out, t_now + tau + delta, half_len)\n",
    "    sample_left = interpolate(matched_out, t_now + tau - delta, half_len)\n",
    "    deriv = (sample_right - sample_left)/(2*delta) \n",
    "    decision = quantalph(sample, alphabet)[0]\n",
    "    # Updates\n",
    "    tau = tau + mu * deriv * (decision - sample)\n",
    "    t_now += M\n",
    "    # Save history \n",
    "    sample_history.append(sample)\n",
    "    tau_history.append(tau)\n",
    "    \n",
    "plt.plot(tau_history);"
   ]
  },
  {
   "cell_type": "code",
   "execution_count": 8,
   "metadata": {},
   "outputs": [
    {
     "data": {
      "image/png": "[encoded data removed]",
      "text/plain": [
       "<Figure size 288x216 with 1 Axes>"
      ]
     },
     "metadata": {
      "needs_background": "light"
     },
     "output_type": "display_data"
    }
   ],
   "source": [
    "plt.plot(sample_history, '.');"
   ]
  },
  {
   "cell_type": "code",
   "execution_count": null,
   "metadata": {},
   "outputs": [],
   "source": []
  }
 ],
 "metadata": {
  "kernelspec": {
   "display_name": "Python 3",
   "language": "python",
   "name": "python3"
  },
  "language_info": {
   "codemirror_mode": {
    "name": "ipython",
    "version": 3
   },
   "file_extension": ".py",
   "mimetype": "text/x-python",
   "name": "python",
   "nbconvert_exporter": "python",
   "pygments_lexer": "ipython3",
   "version": "3.7.6"
  }
 },
 "nbformat": 4,
 "nbformat_minor": 4
}
