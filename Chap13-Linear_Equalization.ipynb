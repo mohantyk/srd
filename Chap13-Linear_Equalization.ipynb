{
 "cells": [
  {
   "cell_type": "code",
   "execution_count": 1,
   "metadata": {},
   "outputs": [],
   "source": [
    "%load_ext autoreload\n",
    "%autoreload 2"
   ]
  },
  {
   "cell_type": "code",
   "execution_count": 2,
   "metadata": {},
   "outputs": [],
   "source": [
    "%matplotlib inline\n",
    "import matplotlib as mpl\n",
    "import matplotlib.pyplot as plt\n",
    "\n",
    "import global_params as G\n",
    "plt.rcParams['figure.figsize'] = G.SMALL_FIG"
   ]
  },
  {
   "cell_type": "code",
   "execution_count": 3,
   "metadata": {},
   "outputs": [],
   "source": [
    "import numpy as np\n",
    "from scipy import linalg\n",
    "from scipy import signal\n",
    "\n",
    "np.set_printoptions(precision=4, suppress=True)"
   ]
  },
  {
   "cell_type": "code",
   "execution_count": 4,
   "metadata": {},
   "outputs": [],
   "source": [
    "from utilities import db\n",
    "from receiver import quantalph\n",
    "\n",
    "from equalization import *"
   ]
  },
  {
   "cell_type": "markdown",
   "metadata": {},
   "source": [
    "## Least Squares"
   ]
  },
  {
   "cell_type": "code",
   "execution_count": 5,
   "metadata": {},
   "outputs": [],
   "source": [
    "m = 1000 # Num symbols\n",
    "noise_std = 0. # Std deviation for AWGN\n",
    "alphabet = np.array([-1, 1])\n",
    "channel = np.array([0.5, 1, -0.6])\n",
    "\n",
    "symbols = np.random.choice(alphabet, m)\n",
    "noise = noise_std*np.random.randn(m)\n",
    "received = signal.lfilter(channel, 1, symbols)  + noise"
   ]
  },
  {
   "cell_type": "code",
   "execution_count": 6,
   "metadata": {},
   "outputs": [
    {
     "name": "stdout",
     "output_type": "stream",
     "text": [
      "Delay = 2, Jmin = 33.5, errors = 0.0, equalizer = [-0.2759  0.6576  0.3088  0.1435]\n"
     ]
    }
   ],
   "source": [
    "n = 3 # num taps = 1 + n\n",
    "delay = 2\n",
    "\n",
    "p = len(received) - delay # tx symbols to consider\n",
    "R = linalg.toeplitz(received[np.arange(n, p)], received[np.arange(n, -1, -1)])\n",
    "S = symbols[n-delay:p-delay] # Since this is a training sequence, it is known at receiver\n",
    "f = linalg.inv(R.T@R)@R.T@S\n",
    "Jmin = S.T@S - S.T@R@linalg.inv(R.T@R)@R.T@S\n",
    "y = signal.lfilter(f, 1, received)\n",
    "decisions = quantalph(y, alphabet)\n",
    "err = 0.5*np.sum(np.abs(decisions[delay:] - symbols[:m-delay]))\n",
    "\n",
    "print(f'Delay = {delay}, Jmin = {Jmin:.1f}, errors = {err}, equalizer = {f}')"
   ]
  },
  {
   "cell_type": "code",
   "execution_count": 7,
   "metadata": {},
   "outputs": [
    {
     "data": {
      "image/png": "[encoded data removed]",
      "text/plain": [
       "<Figure size 288x216 with 1 Axes>"
      ]
     },
     "metadata": {
      "needs_background": "light"
     },
     "output_type": "display_data"
    }
   ],
   "source": [
    "w, h_channel = signal.freqz(channel)\n",
    "w, h_eq = signal.freqz(f)\n",
    "w, h_combined = signal.freqz(np.convolve(channel, f))\n",
    "plt.plot(w/np.pi, db(h_channel), 'r');\n",
    "plt.plot(w/np.pi, db(h_eq), 'b');\n",
    "plt.plot(w/np.pi, db(h_combined), 'k');"
   ]
  },
  {
   "cell_type": "markdown",
   "metadata": {},
   "source": [
    "## LMS"
   ]
  },
  {
   "cell_type": "code",
   "execution_count": 8,
   "metadata": {},
   "outputs": [
    {
     "name": "stdout",
     "output_type": "stream",
     "text": [
      "Final filter coeffs: [-0.273   0.668   0.3182  0.141 ]\n"
     ]
    }
   ],
   "source": [
    "n = 4 # num taps\n",
    "mu = .01\n",
    "delta = 2\n",
    "\n",
    "f = np.zeros(n, float)\n",
    "for i in range(n, len(received)):\n",
    "    window = received[i:i-n:-1]\n",
    "    predicted = np.dot(f, window)\n",
    "    err = symbols[i-delta] - predicted\n",
    "    f = f + mu*err*window\n",
    "    \n",
    "lms_eq = f\n",
    "print(f'Final filter coeffs: {lms_eq}')"
   ]
  },
  {
   "cell_type": "code",
   "execution_count": 9,
   "metadata": {},
   "outputs": [
    {
     "name": "stdout",
     "output_type": "stream",
     "text": [
      "Filter coeffs from function: [-0.273   0.668   0.3182  0.141 ]\n"
     ]
    }
   ],
   "source": [
    "# Implemented as a function\n",
    "print(f'Filter coeffs from function: {lms_equalizer(received, symbols)}')"
   ]
  },
  {
   "cell_type": "code",
   "execution_count": 10,
   "metadata": {},
   "outputs": [
    {
     "data": {
      "text/plain": [
       "array([510., 496.,   0., 495.])"
      ]
     },
     "execution_count": 10,
     "metadata": {},
     "output_type": "execute_result"
    }
   ],
   "source": [
    "errors_vs_delay = evaluate_equalizer(channel, lms_eq, alphabet)\n",
    "errors_vs_delay"
   ]
  },
  {
   "cell_type": "markdown",
   "metadata": {},
   "source": [
    "## Decision directed Equalization"
   ]
  },
  {
   "cell_type": "code",
   "execution_count": 11,
   "metadata": {},
   "outputs": [
    {
     "name": "stdout",
     "output_type": "stream",
     "text": [
      "Final filter coeffs: [ 0.0481 -0.3022  0.6377  0.2788]\n"
     ]
    }
   ],
   "source": [
    "n = 4 # num taps\n",
    "mu = .1\n",
    "\n",
    "f = np.zeros(n, float)\n",
    "f[len(f)//2] = 1 # Center-spike initialization\n",
    "for i in range(n, len(received)):\n",
    "    window = received[i:i-n:-1]\n",
    "    predicted = np.dot(f, window)\n",
    "    decision = quantalph(np.array(predicted), alphabet)\n",
    "    err = decision[0] - predicted\n",
    "    f = f + mu*err*window\n",
    "    \n",
    "dd_eq = f\n",
    "print(f'Final filter coeffs: {dd_eq}')"
   ]
  },
  {
   "cell_type": "code",
   "execution_count": 12,
   "metadata": {},
   "outputs": [
    {
     "name": "stdout",
     "output_type": "stream",
     "text": [
      "Filter coeffs from function: [ 0.0481 -0.3022  0.6377  0.2788]\n"
     ]
    }
   ],
   "source": [
    "# Implemented as a function\n",
    "print(f'Filter coeffs from function: {dd_equalizer(received, alphabet)}')"
   ]
  },
  {
   "cell_type": "code",
   "execution_count": 13,
   "metadata": {},
   "outputs": [
    {
     "data": {
      "text/plain": [
       "array([498., 473., 485.,   0.])"
      ]
     },
     "execution_count": 13,
     "metadata": {},
     "output_type": "execute_result"
    }
   ],
   "source": [
    "errors_vs_delay = evaluate_equalizer(channel, dd_eq, alphabet)\n",
    "errors_vs_delay"
   ]
  }
 ],
 "metadata": {
  "kernelspec": {
   "display_name": "Python 3",
   "language": "python",
   "name": "python3"
  },
  "language_info": {
   "codemirror_mode": {
    "name": "ipython",
    "version": 3
   },
   "file_extension": ".py",
   "mimetype": "text/x-python",
   "name": "python",
   "nbconvert_exporter": "python",
   "pygments_lexer": "ipython3",
   "version": "3.7.6"
  }
 },
 "nbformat": 4,
 "nbformat_minor": 2
}
