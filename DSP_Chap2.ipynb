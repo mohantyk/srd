{
 "cells": [
  {
   "cell_type": "code",
   "execution_count": 1,
   "metadata": {},
   "outputs": [],
   "source": [
    "import numpy as np\n",
    "from numpy import pi, cos, sin, array, mean"
   ]
  },
  {
   "cell_type": "code",
   "execution_count": 2,
   "metadata": {},
   "outputs": [],
   "source": [
    "from scipy.linalg import toeplitz"
   ]
  },
  {
   "cell_type": "code",
   "execution_count": 3,
   "metadata": {},
   "outputs": [],
   "source": [
    "import matplotlib.pyplot as plt\n",
    "plt.style.use('dark_background')"
   ]
  },
  {
   "cell_type": "code",
   "execution_count": 4,
   "metadata": {},
   "outputs": [],
   "source": [
    "np.set_printoptions(4)"
   ]
  },
  {
   "cell_type": "markdown",
   "metadata": {},
   "source": [
    "## Convolution"
   ]
  },
  {
   "cell_type": "code",
   "execution_count": 5,
   "metadata": {},
   "outputs": [],
   "source": [
    "x = np.array([2,2,3, 4, 2,2, 4], np.int)\n",
    "h = np.array([3,3,2], np.int)"
   ]
  },
  {
   "cell_type": "code",
   "execution_count": 6,
   "metadata": {},
   "outputs": [
    {
     "data": {
      "text/plain": [
       "array([ 6, 12, 19, 25, 24, 20, 22, 16,  8])"
      ]
     },
     "execution_count": 6,
     "metadata": {},
     "output_type": "execute_result"
    }
   ],
   "source": [
    "np.convolve(x, h, 'full')"
   ]
  },
  {
   "cell_type": "code",
   "execution_count": 7,
   "metadata": {},
   "outputs": [
    {
     "data": {
      "text/plain": [
       "array([ 6, 12, 19, 25, 24, 20, 22])"
      ]
     },
     "execution_count": 7,
     "metadata": {},
     "output_type": "execute_result"
    }
   ],
   "source": [
    "toeplitz(x, np.zeros_like(h)) @ h"
   ]
  },
  {
   "cell_type": "code",
   "execution_count": 8,
   "metadata": {},
   "outputs": [
    {
     "data": {
      "text/plain": [
       "array([ 6, 12, 19, 25, 24, 20, 22])"
      ]
     },
     "execution_count": 8,
     "metadata": {},
     "output_type": "execute_result"
    }
   ],
   "source": [
    "h_long = np.zeros_like(x)\n",
    "h_long[:len(h)] = h\n",
    "toeplitz(h_long, np.zeros_like(x)) @ x"
   ]
  },
  {
   "cell_type": "markdown",
   "metadata": {},
   "source": [
    "## Correlation"
   ]
  },
  {
   "cell_type": "code",
   "execution_count": 9,
   "metadata": {},
   "outputs": [
    {
     "data": {
      "text/plain": [
       "array([4.+0.j])"
      ]
     },
     "execution_count": 9,
     "metadata": {},
     "output_type": "execute_result"
    }
   ],
   "source": [
    "x = array([1, 1j, -1, -1j])\n",
    "y = x.copy()\n",
    "np.correlate(x, y)"
   ]
  },
  {
   "cell_type": "code",
   "execution_count": 10,
   "metadata": {},
   "outputs": [],
   "source": [
    "n = np.arange(60)\n",
    "waveform = 2*cos(2*pi*0.1*n) + cos(2*pi*0.2*n) + 4*cos(2*pi*0.3*n)"
   ]
  },
  {
   "cell_type": "code",
   "execution_count": 11,
   "metadata": {},
   "outputs": [
    {
     "data": {
      "text/plain": [
       "array([2.])"
      ]
     },
     "execution_count": 11,
     "metadata": {},
     "output_type": "execute_result"
    }
   ],
   "source": [
    "signal = cos(2*pi*0.3*n)\n",
    "np.correlate(waveform, signal)/len(signal)"
   ]
  },
  {
   "cell_type": "markdown",
   "metadata": {},
   "source": [
    "### Sinusoid of arbitrary phase"
   ]
  },
  {
   "cell_type": "code",
   "execution_count": 12,
   "metadata": {},
   "outputs": [],
   "source": [
    "waveform = 2*cos(2*pi*0.1*n + pi/4) + cos(2*pi*0.2*n) + 4*cos(2*pi*0.3*n)"
   ]
  },
  {
   "cell_type": "code",
   "execution_count": 13,
   "metadata": {},
   "outputs": [
    {
     "name": "stdout",
     "output_type": "stream",
     "text": [
      "Amplitude = 2.0  Phase = 45.0\n"
     ]
    }
   ],
   "source": [
    "signal_i = cos(2*pi*0.1*n)\n",
    "signal_q = sin(2*pi*0.1*n)\n",
    "\n",
    "A = 2*np.correlate(waveform, signal_i)/len(signal_i)\n",
    "B = 2*np.correlate(waveform, signal_q)/len(signal_i)\n",
    "\n",
    "M = A + B*1j\n",
    "M = np.squeeze(M)\n",
    "\n",
    "print(f'Amplitude = {np.abs(M):.1f}  Phase = {-np.angle(M, deg=True):.1f}')"
   ]
  },
  {
   "cell_type": "markdown",
   "metadata": {},
   "source": [
    "### Specialized Codes"
   ]
  },
  {
   "cell_type": "code",
   "execution_count": 14,
   "metadata": {},
   "outputs": [],
   "source": [
    "B = array([1, 1, 1, -1, -1, -1, 1, -1, -1, 1, -1])"
   ]
  },
  {
   "cell_type": "code",
   "execution_count": 15,
   "metadata": {},
   "outputs": [],
   "source": [
    "SNR = 10 # dB\n",
    "power_of_B = mean(B**2)\n",
    "\n",
    "SNR_linear = 10**(SNR/10)\n",
    "noise_power = power_of_B / SNR_linear\n",
    "awgn = np.sqrt(noise_power) * np.random.randn(200)\n",
    "\n",
    "rx_signal = awgn + np.pad(B, (50, 139), 'constant')"
   ]
  },
  {
   "cell_type": "code",
   "execution_count": 16,
   "metadata": {},
   "outputs": [],
   "source": [
    "corr = np.correlate(rx_signal, B, 'full')"
   ]
  },
  {
   "cell_type": "code",
   "execution_count": 17,
   "metadata": {},
   "outputs": [
    {
     "data": {
      "text/plain": [
       "[<matplotlib.lines.Line2D at 0x1174b7dd8>]"
      ]
     },
     "execution_count": 17,
     "metadata": {},
     "output_type": "execute_result"
    },
    {
     "data": {
      "image/png": "[encoded data removed]",
      "text/plain": [
       "<Figure size 432x288 with 1 Axes>"
      ]
     },
     "metadata": {
      "needs_background": "dark"
     },
     "output_type": "display_data"
    }
   ],
   "source": [
    "plt.plot(rx_signal);\n",
    "plt.plot(corr/max(corr), 'r');\n",
    "plt.plot(rx_signal - awgn, 'y')"
   ]
  },
  {
   "cell_type": "code",
   "execution_count": 18,
   "metadata": {},
   "outputs": [],
   "source": [
    "C = B[::-1]\n",
    "shift_register = np.zeros_like(C, np.float)\n",
    "output = np.zeros_like(rx_signal)\n",
    "\n",
    "for idx, sample in enumerate(rx_signal):\n",
    "    shift_register = np.roll(shift_register, 1)\n",
    "    shift_register[0] = sample\n",
    "    output[idx] = np.dot(shift_register, C)\n",
    "    "
   ]
  },
  {
   "cell_type": "code",
   "execution_count": 19,
   "metadata": {},
   "outputs": [
    {
     "data": {
      "text/plain": [
       "(11.10230299511348, 11.10230299511348)"
      ]
     },
     "execution_count": 19,
     "metadata": {},
     "output_type": "execute_result"
    }
   ],
   "source": [
    "np.max(corr), np.max(output)"
   ]
  },
  {
   "cell_type": "markdown",
   "metadata": {},
   "source": [
    "### Walsh Codes"
   ]
  },
  {
   "cell_type": "code",
   "execution_count": 20,
   "metadata": {},
   "outputs": [
    {
     "data": {
      "text/plain": [
       "array([[ 1,  1,  1,  1,  1,  1,  1,  1],\n",
       "       [ 1, -1,  1, -1,  1, -1,  1, -1],\n",
       "       [ 1,  1, -1, -1,  1,  1, -1, -1],\n",
       "       [ 1, -1, -1,  1,  1, -1, -1,  1],\n",
       "       [ 1,  1,  1,  1, -1, -1, -1, -1],\n",
       "       [ 1, -1,  1, -1, -1,  1, -1,  1],\n",
       "       [ 1,  1, -1, -1, -1, -1,  1,  1],\n",
       "       [ 1, -1, -1,  1, -1,  1,  1, -1]])"
      ]
     },
     "execution_count": 20,
     "metadata": {},
     "output_type": "execute_result"
    }
   ],
   "source": [
    "Walsh = array([[1, 1, 1, 1, 1, 1, 1, 1],\n",
    "               [1, -1, 1, -1, 1, -1, 1, -1],\n",
    "               [1, 1, -1, -1, 1, 1, -1, -1],\n",
    "               [1, -1, -1, 1, 1, -1, -1, 1],\n",
    "               [1, 1, 1, 1, -1, -1, -1, -1],\n",
    "               [1, -1, 1, -1, -1, 1, -1, 1],\n",
    "               [1, 1, -1, -1, -1, -1, 1, 1],\n",
    "               [1, -1, -1, 1, -1, 1, 1, -1]])\n",
    "Walsh"
   ]
  },
  {
   "cell_type": "code",
   "execution_count": 21,
   "metadata": {},
   "outputs": [],
   "source": [
    "u0_data = array([1, -1, 1])\n",
    "u1_data = array([-1, -1, 1])\n",
    "u2_data = array([-1, 1, -1])"
   ]
  },
  {
   "cell_type": "code",
   "execution_count": 22,
   "metadata": {},
   "outputs": [],
   "source": [
    "user0_data = array([1, -1, 1])\n",
    "user1_data = array([-1, -1, 1])\n",
    "user2_data = array([-1, 1, -1])"
   ]
  },
  {
   "cell_type": "code",
   "execution_count": 23,
   "metadata": {},
   "outputs": [],
   "source": [
    "u0_coded = (user0_data[:, np.newaxis] * Walsh[0]).flatten()\n",
    "u1_coded = (user1_data[:, np.newaxis] * Walsh[1]).flatten()\n",
    "u2_coded = (user2_data[:, np.newaxis] * Walsh[2]).flatten()\n",
    "\n",
    "composite = u0_coded + u1_coded + u2_coded"
   ]
  },
  {
   "cell_type": "code",
   "execution_count": 24,
   "metadata": {},
   "outputs": [
    {
     "data": {
      "image/png": "[encoded data removed]",
      "text/plain": [
       "<Figure size 432x288 with 4 Axes>"
      ]
     },
     "metadata": {
      "needs_background": "dark"
     },
     "output_type": "display_data"
    }
   ],
   "source": [
    "fig, ax = plt.subplots(4, 1); \n",
    "ax[0].stem(u0_coded, use_line_collection = True)\n",
    "ax[1].stem(u1_coded, use_line_collection = True)\n",
    "ax[2].stem(u2_coded, use_line_collection = True)\n",
    "ax[3].stem(composite, use_line_collection = True);"
   ]
  },
  {
   "cell_type": "code",
   "execution_count": 25,
   "metadata": {},
   "outputs": [],
   "source": [
    "u0_correlator = np.correlate(composite, Walsh[0], 'full')\n",
    "u1_correlator = np.correlate(composite, Walsh[1], 'full')\n",
    "u2_correlator = np.correlate(composite, Walsh[2], 'full')"
   ]
  },
  {
   "cell_type": "code",
   "execution_count": 26,
   "metadata": {},
   "outputs": [
    {
     "data": {
      "text/plain": [
       "array([[ 1, -1,  1],\n",
       "       [-1, -1,  1],\n",
       "       [-1,  1, -1]])"
      ]
     },
     "execution_count": 26,
     "metadata": {},
     "output_type": "execute_result"
    }
   ],
   "source": [
    "u0_decoded = u0_correlator[7::8]/8\n",
    "u1_decoded = u1_correlator[7::8]/8\n",
    "u2_decoded = u2_correlator[7::8]/8\n",
    "\n",
    "decoded_data = np.vstack([u0_decoded, u1_decoded, u2_decoded]).astype(np.int)\n",
    "decoded_data"
   ]
  },
  {
   "cell_type": "markdown",
   "metadata": {},
   "source": [
    "#### Auto-correlation"
   ]
  },
  {
   "cell_type": "code",
   "execution_count": 27,
   "metadata": {},
   "outputs": [],
   "source": [
    "B = array([1, 1, 1, -1, -1, -1, 1, -1, -1, 1, -1])\n",
    "C = array([1, 1, -1, -1, 1, -1, 1, 1, -1, 1, -1])"
   ]
  },
  {
   "cell_type": "code",
   "execution_count": 28,
   "metadata": {},
   "outputs": [
    {
     "data": {
      "text/plain": [
       "<StemContainer object of 3 artists>"
      ]
     },
     "execution_count": 28,
     "metadata": {},
     "output_type": "execute_result"
    },
    {
     "data": {
      "image/png": "[encoded data removed]",
      "text/plain": [
       "<Figure size 432x288 with 2 Axes>"
      ]
     },
     "metadata": {
      "needs_background": "dark"
     },
     "output_type": "display_data"
    }
   ],
   "source": [
    "fig, ax = plt.subplots(2, 1)\n",
    "ax[0].stem(np.correlate(B, B, 'same'), use_line_collection = True)\n",
    "ax[1].stem(np.correlate(C, C, 'same'), use_line_collection = True)"
   ]
  },
  {
   "cell_type": "code",
   "execution_count": 29,
   "metadata": {},
   "outputs": [
    {
     "data": {
      "text/plain": [
       "array([ 2, -5,  2, -1, -4, 11, -4, -1,  2, -5,  2])"
      ]
     },
     "execution_count": 29,
     "metadata": {},
     "output_type": "execute_result"
    }
   ],
   "source": [
    "np.correlate(C, C, 'same')"
   ]
  },
  {
   "cell_type": "code",
   "execution_count": 30,
   "metadata": {},
   "outputs": [
    {
     "data": {
      "text/plain": [
       "array([ 0, -1,  0, -1,  0, 11,  0, -1,  0, -1,  0])"
      ]
     },
     "execution_count": 30,
     "metadata": {},
     "output_type": "execute_result"
    }
   ],
   "source": [
    "np.correlate(B, B, 'same')"
   ]
  },
  {
   "cell_type": "markdown",
   "metadata": {},
   "source": [
    "## Fourier Transform"
   ]
  },
  {
   "cell_type": "code",
   "execution_count": null,
   "metadata": {},
   "outputs": [],
   "source": []
  }
 ],
 "metadata": {
  "kernelspec": {
   "display_name": "Python 3",
   "language": "python",
   "name": "python3"
  },
  "language_info": {
   "codemirror_mode": {
    "name": "ipython",
    "version": 3
   },
   "file_extension": ".py",
   "mimetype": "text/x-python",
   "name": "python",
   "nbconvert_exporter": "python",
   "pygments_lexer": "ipython3",
   "version": "3.7.2"
  }
 },
 "nbformat": 4,
 "nbformat_minor": 2
}
