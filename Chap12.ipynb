{
 "cells": [
  {
   "cell_type": "code",
   "execution_count": 1,
   "metadata": {},
   "outputs": [],
   "source": [
    "%load_ext autoreload\n",
    "%autoreload 2"
   ]
  },
  {
   "cell_type": "code",
   "execution_count": 2,
   "metadata": {},
   "outputs": [],
   "source": [
    "%matplotlib inline\n",
    "import matplotlib as mpl\n",
    "import matplotlib.pyplot as plt\n",
    "\n",
    "import global_params as G\n",
    "plt.rcParams['figure.figsize'] = G.SMALL_FIG"
   ]
  },
  {
   "cell_type": "code",
   "execution_count": 3,
   "metadata": {},
   "outputs": [],
   "source": [
    "import numpy as np\n",
    "from scipy import signal\n",
    "from scipy.fftpack import fft\n",
    "\n",
    "np.set_printoptions(precision=4, suppress=True)"
   ]
  },
  {
   "cell_type": "code",
   "execution_count": 4,
   "metadata": {},
   "outputs": [],
   "source": [
    "from wavegen import srrc\n",
    "from transmitter import oversample"
   ]
  },
  {
   "cell_type": "markdown",
   "metadata": {},
   "source": [
    "## 12.3 Decision Directed Timing Recovery"
   ]
  },
  {
   "cell_type": "code",
   "execution_count": 5,
   "metadata": {},
   "outputs": [],
   "source": [
    "# Transmission Parameters\n",
    "N = 10000 # num symbols\n",
    "M = 2 # oversampling factor\n",
    "Ts = 0.0001 # sampling frequency\n",
    "\n",
    "# SRRC parameters\n",
    "half_len = 50\n",
    "beta = 0.3 # Roll-off for square root raised cosine\n",
    "timing_offset = -0.3\n",
    "\n",
    "# Channel\n",
    "channel = np.array([1]) "
   ]
  },
  {
   "cell_type": "code",
   "execution_count": 6,
   "metadata": {},
   "outputs": [],
   "source": [
    "# Transmitted signal\n",
    "symbols = np.random.choice([-3, -1, 1, 3], N) # 4-PAM\n",
    "pulse = srrc(half_len, M, beta, timing_offset)\n",
    "\n",
    "oversampled = oversample(symbols, M)\n",
    "analog = np.convolve(oversampled, pulse)\n",
    "received = np.convolve(analog, channel)\n",
    "\n",
    "# Receiver\n",
    "matched_filt = srrc(half_len, M, beta, 0)\n",
    "matched_out = np.convolve(received, matched_filt) # Symmetric filt, no need to flip"
   ]
  }
 ],
 "metadata": {
  "kernelspec": {
   "display_name": "Python 3",
   "language": "python",
   "name": "python3"
  },
  "language_info": {
   "codemirror_mode": {
    "name": "ipython",
    "version": 3
   },
   "file_extension": ".py",
   "mimetype": "text/x-python",
   "name": "python",
   "nbconvert_exporter": "python",
   "pygments_lexer": "ipython3",
   "version": "3.7.6"
  }
 },
 "nbformat": 4,
 "nbformat_minor": 4
}
